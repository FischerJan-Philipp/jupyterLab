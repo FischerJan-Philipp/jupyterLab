{
 "cells": [
  {
   "cell_type": "code",
   "execution_count": 3,
   "id": "b7e2fc0d-809d-47b7-8c6a-96ad8f0315ad",
   "metadata": {
    "tags": []
   },
   "outputs": [
    {
     "name": "stdout",
     "output_type": "stream",
     "text": [
      "hallo\n"
     ]
    }
   ],
   "source": [
    "print(\"hallo\")"
   ]
  },
  {
   "cell_type": "code",
   "execution_count": 4,
   "id": "ad1e36d6-e0c7-4268-93ee-1010021e293e",
   "metadata": {
    "tags": []
   },
   "outputs": [],
   "source": [
    "import pandas as pd"
   ]
  },
  {
   "cell_type": "code",
   "execution_count": null,
   "id": "074ac86a-90eb-4588-bfff-2004b3ed037d",
   "metadata": {},
   "outputs": [],
   "source": []
  }
 ],
 "metadata": {
  "kernelspec": {
   "display_name": "",
   "name": ""
  },
  "language_info": {
   "name": ""
  }
 },
 "nbformat": 4,
 "nbformat_minor": 5
}
