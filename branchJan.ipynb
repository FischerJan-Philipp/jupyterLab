{
 "cells": [
  {
   "cell_type": "code",
   "execution_count": 2,
   "id": "8208f4cb-9ddc-4ed2-9570-059a91bb97f1",
   "metadata": {
    "tags": []
   },
   "outputs": [
    {
     "name": "stdout",
     "output_type": "stream",
     "text": [
      "Jan\n"
     ]
    }
   ],
   "source": [
    "print(\"Jan\")"
   ]
  },
  {
   "cell_type": "code",
   "execution_count": null,
   "id": "d2727e52-2fe1-40a4-a725-0284b3d9f622",
   "metadata": {},
   "outputs": [],
   "source": []
  }
 ],
 "metadata": {
  "kernelspec": {
   "display_name": "",
   "name": ""
  },
  "language_info": {
   "name": ""
  }
 },
 "nbformat": 4,
 "nbformat_minor": 5
}
